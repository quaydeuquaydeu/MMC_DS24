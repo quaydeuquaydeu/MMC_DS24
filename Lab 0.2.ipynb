{
 "cells": [
  {
   "cell_type": "markdown",
   "id": "744291f1-b817-450c-b9de-4e5e36fa58ec",
   "metadata": {},
   "source": [
    "Bài 1: Tạo tiêu đề và đoạn văn\n",
    "\n",
    "# Markdown Practice  \n",
    "Đây là một đoạn văn với nội dung tùy chọn. Dùng \\<br> để xuống dòng.<br>\n",
    "Đây là câu thứ hai trong đoạn văn vừa tạo. Dùng dấu \\\\ để xuống dòng.\\\n",
    "Đây là câu thứ ba trong đoạn văn vừa tạo. Dùng \\'  ' để xuống dòng.  \n",
    "Đây là câu thứ tư trong đoạn văn vừa tạo. Vì vậy để dành từ từ nghĩ ra rồi viết cũng được."
   ]
  },
  {
   "cell_type": "markdown",
   "id": "5d8058cd-a803-462c-ac09-66ed12934930",
   "metadata": {},
   "source": [
    "Bài 2: Định dạng văn bản  \r\n",
    "1. In đậm câu đầu tiên trong đoạn văn của bài tập  .\r\n",
    "2. In nghiêng câu thứ hai trong đoạn văn  ó.\r\n",
    "3. Tạo một hyperlink để liên kết từ \"Markdown\" trong tiêu đề với trang web Markdown Guide (https://www.markdownguide.g)\n",
    "\n",
    ").[\r\n",
    "# Mark](https://www.markdownguide.org/) own Prai\n",
    "***e  \n",
    "Đây là một đoạn văn với nội dung tùy chọn. Vì vậy để dành từ từ nghĩ ra rồi .**\n",
    "__.  \n",
    "Đây là câu thứ hai trong đoạn văn vừa tạo. \"Vì vậy để dành từ từ nghĩ ra rồi . _ợc.\""
   ]
  },
  {
   "cell_type": "markdown",
   "id": "da7e2ebd-d291-43fa-b627-6cac1b4f2bad",
   "metadata": {},
   "source": [
    "Bài 3: Tạo danh sách\r\n",
    "1. Tạo một danh sách có thứ tự với 3 mục liệt kê các bước học AI. Ví dụ\n",
    " \r\n",
    "2. Tạo một danh sách không có thứ tự với 3 mục liệt kê lợi ích của việc học AI. Ví   \n",
    "\n",
    "\n",
    "1. Học Data Science\n",
    "2. Học Machine Learning\n",
    "3. Học Deep Learning\n",
    "\n",
    "- Tăng kiến thức\n",
    "- Tăng trải nghiệm\n",
    "- Tăng lươngụ:\r\n"
   ]
  },
  {
   "cell_type": "markdown",
   "id": "6c7ff3db-6d4b-4197-a19d-c9226e899f92",
   "metadata": {},
   "source": [
    "Bài 4: Chèn hình ảnh\n",
    "1. Tìm một hình ảnh minh họa cho bài 3 và chèn vào tài liệu Markdown của bạn.\r\n",
    "2. Thêm mô tả in đậm cho hình ảnh đó. \r",
    "- Tăng kiến thức\n",
    "- Tăng trải nghiệm\n",
    "- Tăng lương\n",
    "\n",
    "![ảnh 1](data:image/jpeg;base64,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 \"Hình AIO mượn tạm trên mạng\")\n",
    "\n",
    "**Hình ảnh minh họa cho việc học AI**\n",
    "\n",
    "![ảnh 2](C:\\Users\\trpnguyen\\Downloads\\ảnh2.jpg \"Ảnh local 2\")\n",
    "\n",
    "![ảnh 2](..\\trpnguyen\\Downloads\\ảnh2.jpg \"Ảnh local 2\")\n",
    "\n",
    "![ảnh 3](.\\ảnh3.jpg \"Ảnh local\")\n",
    "\n",
    "![ảnh 4](.\\ảnh-4.jpg \"Ảnh local\")\n",
    "\n"
   ]
  },
  {
   "cell_type": "markdown",
   "id": "4f7b5a85-a4e7-45f9-9df5-57b6ae20c0df",
   "metadata": {},
   "source": [
    "Bài 5: Sử dụng cú pháp Markdown\n",
    "\n",
    "1. Tạo một bảng có 3 cột và 3 hàng, điền vào số thứ tự, tác giả, tác phẩm bạn yêu thích. Ví dụ:\r",
    " \r\n",
    "2. Tạo một block quote với một câu trích dẫn yêu thích. Ví dụ\n",
    "\n",
    "|Cột 1|Cột 2|Cột 3|\n",
    "|:---|:---:|---:|\n",
    "|Dữ liệu hàng 1 cột 1|Dữ liệu hàng 1 cột 2|Dữ liệu hàng 1 cột 3|\n",
    "|Dữ liệu hàng 2 cột 1|Dữ liệu hàng 2 cột 2|Dữ liệu hàng 2 cột 3|\n",
    "|---|---|---|\n",
    "\n",
    "|Cột 1|Cột 2|Cột 3|\n",
    "|:----|:-----:|------:|\n",
    "|Dữ liệu hàng 1 cột 1|Dữ liệu hàng 1 cột 2|Dữ liệu hàng 1 cột 3|\n",
    "|Dữ liệu hàng 2 cột 1|Dữ liệu hàng 2 cột 2|Dữ liệu hàng 2 cột 3|\n",
    "\n",
    "|Cột 1|Cột 2|Cột 3|\n",
    "|:------|:---------:|------:|\n",
    "|Dữ liệu hàng 1 cột 1|Dữ liệu hàng 1 cột 2|Dữ liệu hàng 1 cột 3|\n",
    "|Dữ liệu hàng 2 cột 1|Dữ liệu hàng 2 cột 2|Dữ liệu hàng 2 cột 3|\n",
    "\n",
    "|Cột 1|Cột 2|Cột 3|\n",
    "|:-------------------|:------------------:|-------------------:|\n",
    "|Dữ liệu hàng 1 cột 1|Dữ liệu hàng 1 cột 2|Dữ liệu hàng 1 cột 3|\n",
    "|Dữ liệu hàng 2 cột 1|Dữ liệu hàng 2 cột 2|Dữ liệu hàng 2 cột 3|\n",
    "\n",
    "|Cột 1               |Cột 2               |Cột 3               |\n",
    "|:-------------------|:------------------:|-------------------:|\n",
    "|Dữ liệu hàng 1 cột 1|Dữ liệu hàng 1 cột 2|Dữ liệu hàng 1 cột 3|\n",
    "|Dữ liệu hàng 2 cột 1|Dữ liệu hàng 2 cột 2|Dữ liệu hàng 2 cột 3|\n",
    "\n",
    "| Cột 1              | Cột 2              | Cột 3              |\n",
    "|:-------------------|:------------------:|-------------------:|\n",
    "|Dữ liệu hàng 1 cột 1|Dữ liệu hàng 1 cột 2|Dữ liệu hàng 1 cột 3|\n",
    "|Dữ liệu hàng 2 cột 1|Dữ liệu hàng 2 cột 2|Dữ liệu hàng 2 cột 3|\n",
    "\n",
    "| Name   | Address  | Salary |\r\n",
    "|--------|----------|--------|\r\n",
    "| Hanna  | Brisbane |  4000  |\r\n",
    "| Adam   | Sydney   |  5000 |\n",
    "\n",
    "> \"One of the luckiest things that can happen to you in life is, i think, to have a happy childhood.\" - Agatha Christie\n",
    ">\n",
    "> This is the second li\n",
    "\n",
    "```\"One of the luckiest things that can happen to you in life is, i think, to have a happy childhood.\" - Agatha Christie```ne.\n",
    ":\r\n"
   ]
  },
  {
   "cell_type": "markdown",
   "id": "429c2114-c051-4b59-8778-72116e4f5edd",
   "metadata": {},
   "source": [
    "Bài 6: Tạo block code"
   ]
  },
  {
   "cell_type": "markdown",
   "id": "fdc7b75d-d246-42ed-9b62-edddf28822d6",
   "metadata": {},
   "source": [
    "```print ('Hello world')```\n",
    "\n",
    "```$\\sqrt(a**2 + b**2)$```\n",
    "\n",
    "$\\sqrt(a**2 + b**2)$\n",
    "\n",
    "$\\sqrt(a^2 + b^3 + c^4)$"
   ]
  },
  {
   "cell_type": "code",
   "execution_count": null,
   "id": "b223c90e-633b-4f7f-a89a-7ea9c69c48c2",
   "metadata": {},
   "outputs": [],
   "source": []
  }
 ],
 "metadata": {
  "kernelspec": {
   "display_name": "Python 3 (ipykernel)",
   "language": "python",
   "name": "python3"
  },
  "language_info": {
   "codemirror_mode": {
    "name": "ipython",
    "version": 3
   },
   "file_extension": ".py",
   "mimetype": "text/x-python",
   "name": "python",
   "nbconvert_exporter": "python",
   "pygments_lexer": "ipython3",
   "version": "3.11.7"
  }
 },
 "nbformat": 4,
 "nbformat_minor": 5
}

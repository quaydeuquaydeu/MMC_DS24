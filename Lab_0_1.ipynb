{
  "nbformat": 4,
  "nbformat_minor": 0,
  "metadata": {
    "colab": {
      "provenance": [],
      "authorship_tag": "ABX9TyOKBNo0srCmllLLTCnAPMKO",
      "include_colab_link": true
    },
    "kernelspec": {
      "name": "python3",
      "display_name": "Python 3"
    },
    "language_info": {
      "name": "python"
    }
  },
  "cells": [
    {
      "cell_type": "markdown",
      "metadata": {
        "id": "view-in-github",
        "colab_type": "text"
      },
      "source": [
        "<a href=\"https://colab.research.google.com/github/quaydeuquaydeu/MMC_DS24/blob/quaydeu01/Lab_0_1.ipynb\" target=\"_parent\"><img src=\"https://colab.research.google.com/assets/colab-badge.svg\" alt=\"Open In Colab\"/></a>"
      ]
    },
    {
      "cell_type": "markdown",
      "source": [
        "Bài tập 1"
      ],
      "metadata": {
        "id": "Y89Dq7akEwfg"
      }
    },
    {
      "cell_type": "code",
      "execution_count": 1,
      "metadata": {
        "colab": {
          "base_uri": "https://localhost:8080/"
        },
        "id": "F_ezqZiuEhXF",
        "outputId": "98dceca8-930c-4b28-b90b-0c3f5c134e81"
      },
      "outputs": [
        {
          "output_type": "execute_result",
          "data": {
            "text/plain": [
              "2"
            ]
          },
          "metadata": {},
          "execution_count": 1
        }
      ],
      "source": [
        "1+1"
      ]
    },
    {
      "cell_type": "markdown",
      "source": [
        "Bài tập 2"
      ],
      "metadata": {
        "id": "er5yzAVvE7fF"
      }
    },
    {
      "cell_type": "code",
      "source": [],
      "metadata": {
        "id": "lC61p9HqErFY"
      },
      "execution_count": null,
      "outputs": []
    },
    {
      "cell_type": "code",
      "source": [],
      "metadata": {
        "id": "XmcqIQHAE6K-"
      },
      "execution_count": null,
      "outputs": []
    },
    {
      "cell_type": "markdown",
      "source": [
        "Bài tập 3\n",
        ">> My title\n"
      ],
      "metadata": {
        "id": "ovy-PFFTFUzH"
      }
    },
    {
      "cell_type": "code",
      "source": [],
      "metadata": {
        "id": "wOSUzsAzE2Wt"
      },
      "execution_count": null,
      "outputs": []
    },
    {
      "cell_type": "markdown",
      "source": [
        "Bài tập 4 - Đổi tên Notebook\n",
        "1. Trong danh sách notebook ở bảng điều khiển bên trái, nhấp vào File ở trên cùng để mở rộng danh sách tùy chọn.\n",
        "2. Nhấp vào Rename Notebook... để đổi tên mới cho notebook ví dụ My_Notebook.ipynb.\n"
      ],
      "metadata": {
        "id": "2GDQxkX6G7sV"
      }
    },
    {
      "cell_type": "markdown",
      "source": [
        "Bài tập  5 - Lưu và tải xuống Jupyter Notebook vào máy tính của bạn\n",
        "Đôi khi bạn có thể muốn tải notebook về máy tính của mình.\n",
        "* Để lưu, nhấp vào nút Save Notebook hoặc nút Save Notebook as trong menu File.\n",
        "* Để tải xuống notebook, nhấp vào File và cuộn xuống Download để tải xuống notebook. Bạn cũng có thể nhấp chuột phải vào notebook trong file browser và nhấp vào Download\n"
      ],
      "metadata": {
        "id": "qpAYH1mwHOnh"
      }
    }
  ]
}